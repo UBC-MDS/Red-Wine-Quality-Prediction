{
 "cells": [
  {
   "cell_type": "code",
   "execution_count": 1,
   "id": "ffc632eb-c0e2-496d-9326-15090b75ae44",
   "metadata": {},
   "outputs": [],
   "source": [
    "from sklearn.linear_model import LogisticRegression\n",
    "from sklearn.neighbors import KNeighborsClassifier\n",
    "from sklearn.tree import DecisionTreeClassifier\n",
    "from sklearn.svm import SVC\n",
    "\n",
    "from sklearn.model_selection import GridSearchCV\n",
    "from sklearn.pipeline import Pipeline\n",
    "from sklearn.preprocessing import StandardScaler"
   ]
  },
  {
   "cell_type": "code",
   "execution_count": 2,
   "id": "2e9d8c85-dbe5-4e64-ac84-d8646c1d807b",
   "metadata": {},
   "outputs": [],
   "source": [
    "def model_hyperparam_tuning(X, y, model, params):\n",
    "    \"\"\"\n",
    "    Conducts hyperparameter tuning for a model over a clean data set with only numeric features \n",
    "    and no missing data.\n",
    "\n",
    "    Parameters:\n",
    "    ----------\n",
    "    X : pandas.DataFrame\n",
    "        The feature data set. The featuers must be all numeric.\n",
    "    y : pandas.DataFrame\n",
    "        The response data set.\n",
    "    model : str\n",
    "        The model. Possible values are:\n",
    "        - 'logistic': Logistic Regression.\n",
    "        - 'decision_tree': Decision Tree Classifier.\n",
    "        - 'knn': k-Nearest Neighbors Classifier.\n",
    "        - 'svc': Support Vector Classifier.\n",
    "    params : dict\n",
    "        Dictionary for hyperparameters. The keys are the hyperparameter names and the values are\n",
    "        lists containing the range of values.\n",
    "\n",
    "    Returns:\n",
    "    -------\n",
    "    sklearn.model_selection._search.GridSearchCV\n",
    "        An instance of GridSearchCV of estimator fitted on the data set.\n",
    "        \n",
    "    Examples:\n",
    "    --------\n",
    "    >>> X_train, X_test, y_train, y_test = train_test_split(X, y, test_size = 0.3, random_state = 522)\n",
    "    >>> result = model_hyperparam_tuning(X_train, y_train, 'logistic', {'C': [0.001, 0.01, 0.1, 1.0, 10, 100, 1000],\n",
    "                                                                        'class_weight': ['balanced', None]})\n",
    "    >>> result.cv_results_\n",
    "    \n",
    "    \"\"\"\n",
    "\n",
    "    models = {'logistic': LogisticRegression(random_state=522),\n",
    "              'decision_tree': DecisionTreeClassifier(random_state=522),\n",
    "              'knn': KNeighborsClassifier(),\n",
    "              'svc': SVC(random_state=522)}\n",
    "\n",
    "    pipe = Pipeline([('scl', StandardScaler()),\n",
    "                     ('model', models[model])])\n",
    "\n",
    "    param_dict = {}\n",
    "    for param in params:\n",
    "        param_dict['model__' + param] = params[param]\n",
    "\n",
    "    grid_search = GridSearchCV(estimator=pipe, param_grid=[param_dict], n_jobs=-1, return_train_score=True)\n",
    "    \n",
    "    return grid_search.fit(X, y)"
   ]
  },
  {
   "cell_type": "code",
   "execution_count": 5,
   "id": "3e448e80-f332-412d-bfec-a2a9bea3c356",
   "metadata": {},
   "outputs": [],
   "source": [
    "import pandas as pd\n",
    "from sklearn.model_selection import train_test_split"
   ]
  },
  {
   "cell_type": "code",
   "execution_count": 6,
   "id": "fce953e0-450a-4299-980b-4f035b131392",
   "metadata": {},
   "outputs": [],
   "source": [
    "df = pd.read_csv('../data/winequality-red.csv', sep = ';')\n",
    "X = df.drop(columns = ['quality'])\n",
    "y = df['quality']\n",
    "X_train, X_test, y_train, y_test = train_test_split(X, y, test_size = 0.3, random_state = 522)"
   ]
  },
  {
   "cell_type": "code",
   "execution_count": 7,
   "id": "39b27c8f-7c76-4c18-a851-a1862034cb88",
   "metadata": {},
   "outputs": [],
   "source": [
    "lr_grid_search = model_hyperparam_tuning(X_train, y_train, 'logistic', {'C': [0.001, 0.01, 0.1, 1.0, 10, 100, 1000],\n",
    "                                                                        'class_weight': ['balanced', None]})"
   ]
  },
  {
   "cell_type": "code",
   "execution_count": 8,
   "id": "e3f7d07e-2a4a-4b2c-9f5a-5ee7646eb5e2",
   "metadata": {},
   "outputs": [
    {
     "data": {
      "text/html": [
       "<div>\n",
       "<style scoped>\n",
       "    .dataframe tbody tr th:only-of-type {\n",
       "        vertical-align: middle;\n",
       "    }\n",
       "\n",
       "    .dataframe tbody tr th {\n",
       "        vertical-align: top;\n",
       "    }\n",
       "\n",
       "    .dataframe thead th {\n",
       "        text-align: right;\n",
       "    }\n",
       "</style>\n",
       "<table border=\"1\" class=\"dataframe\">\n",
       "  <thead>\n",
       "    <tr style=\"text-align: right;\">\n",
       "      <th></th>\n",
       "      <th>mean_test_score</th>\n",
       "      <th>mean_train_score</th>\n",
       "      <th>param_model__C</th>\n",
       "      <th>param_model__class_weight</th>\n",
       "      <th>mean_fit_time</th>\n",
       "    </tr>\n",
       "    <tr>\n",
       "      <th>rank_test_score</th>\n",
       "      <th></th>\n",
       "      <th></th>\n",
       "      <th></th>\n",
       "      <th></th>\n",
       "      <th></th>\n",
       "    </tr>\n",
       "  </thead>\n",
       "  <tbody>\n",
       "    <tr>\n",
       "      <th>1</th>\n",
       "      <td>0.586275</td>\n",
       "      <td>0.592495</td>\n",
       "      <td>0.1</td>\n",
       "      <td>None</td>\n",
       "      <td>0.027856</td>\n",
       "    </tr>\n",
       "  </tbody>\n",
       "</table>\n",
       "</div>"
      ],
      "text/plain": [
       "                 mean_test_score  mean_train_score param_model__C  \\\n",
       "rank_test_score                                                     \n",
       "1                       0.586275          0.592495            0.1   \n",
       "\n",
       "                param_model__class_weight  mean_fit_time  \n",
       "rank_test_score                                           \n",
       "1                                    None       0.027856  "
      ]
     },
     "execution_count": 8,
     "metadata": {},
     "output_type": "execute_result"
    }
   ],
   "source": [
    "lr_df = (pd.DataFrame(lr_grid_search.cv_results_)[\n",
    "    [\n",
    "        \"mean_test_score\",\n",
    "        \"mean_train_score\",\n",
    "        \"param_model__C\",\n",
    "        \"param_model__class_weight\",\n",
    "        \"mean_fit_time\",\n",
    "        \"rank_test_score\",\n",
    "    ]\n",
    "].set_index(\"rank_test_score\").sort_index())\n",
    "lr_df.head(1)"
   ]
  },
  {
   "cell_type": "code",
   "execution_count": null,
   "id": "e8465e5f-b476-4775-aae5-dd335be153e0",
   "metadata": {},
   "outputs": [],
   "source": []
  }
 ],
 "metadata": {
  "kernelspec": {
   "display_name": "Python [conda env:red_wine_quality_prediction]",
   "language": "python",
   "name": "conda-env-red_wine_quality_prediction-py"
  },
  "language_info": {
   "codemirror_mode": {
    "name": "ipython",
    "version": 3
   },
   "file_extension": ".py",
   "mimetype": "text/x-python",
   "name": "python",
   "nbconvert_exporter": "python",
   "pygments_lexer": "ipython3",
   "version": "3.10.0"
  }
 },
 "nbformat": 4,
 "nbformat_minor": 5
}
