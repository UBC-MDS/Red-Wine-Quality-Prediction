{
 "cells": [
  {
   "cell_type": "code",
   "execution_count": 1,
   "id": "0bc2426b-5c42-4eb6-b1f0-b2c18245072c",
   "metadata": {},
   "outputs": [],
   "source": [
    "#EDA working file "
   ]
  },
  {
   "cell_type": "code",
   "execution_count": null,
   "id": "0e730b97-d4d5-49bf-94da-4f81b2453664",
   "metadata": {},
   "outputs": [],
   "source": []
  }
 ],
 "metadata": {
  "kernelspec": {
   "display_name": "Python [conda env:571]",
   "language": "python",
   "name": "conda-env-571-py"
  },
  "language_info": {
   "codemirror_mode": {
    "name": "ipython",
    "version": 3
   },
   "file_extension": ".py",
   "mimetype": "text/x-python",
   "name": "python",
   "nbconvert_exporter": "python",
   "pygments_lexer": "ipython3",
   "version": "3.10.0"
  }
 },
 "nbformat": 4,
 "nbformat_minor": 5
}
