{
 "cells": [
  {
   "cell_type": "code",
   "execution_count": null,
   "id": "316ae215-8b31-4d7d-b8ce-32483cd2dcac",
   "metadata": {},
   "outputs": [],
   "source": [
    "import pandas as pd \n",
    "import numpy as np\n",
    "import sys\n",
    "from hashlib import sha1\n",
    "\n",
    "import matplotlib.pyplot as plt\n",
    "import numpy as np\n",
    "import pandas as pd\n",
    "from sklearn.dummy import DummyClassifier\n",
    "from sklearn.feature_extraction.text import CountVectorizer\n",
    "from sklearn.linear_model import LogisticRegression\n",
    "from sklearn.model_selection import (\n",
    "    GridSearchCV,\n",
    "    RandomizedSearchCV,\n",
    "    cross_validate,\n",
    "    train_test_split,\n",
    ")\n",
    "from sklearn.neighbors import KNeighborsClassifier\n",
    "from sklearn.naive_bayes import BernoulliNB, MultinomialNB\n",
    "from sklearn.pipeline import Pipeline, make_pipeline\n",
    "from sklearn.svm import SVC\n",
    "from sklearn.tree import DecisionTreeClassifier\n",
    "from sklearn.linear_model import Ridge\n",
    "from sklearn.preprocessing import OneHotEncoder, StandardScaler"
   ]
  },
  {
   "cell_type": "code",
   "execution_count": null,
   "id": "2c2c316d-ee6b-450b-bf76-135e0f7318c3",
   "metadata": {},
   "outputs": [],
   "source": [
    "df = pd.read_csv('data/winequality-red.csv', sep = ';')"
   ]
  },
  {
   "cell_type": "code",
   "execution_count": null,
   "id": "d765e2ef-66ed-43cf-a1b1-1e869c1c0216",
   "metadata": {},
   "outputs": [],
   "source": [
    "df.head()"
   ]
  },
  {
   "cell_type": "code",
   "execution_count": null,
   "id": "78000f2b-9120-4139-9000-63736f0f9218",
   "metadata": {},
   "outputs": [],
   "source": [
    "df.info()\n"
   ]
  },
  {
   "cell_type": "code",
   "execution_count": null,
   "id": "0371cf70-4931-48a9-8ef3-c0d532a55128",
   "metadata": {
    "scrolled": true
   },
   "outputs": [],
   "source": [
    "df.describe()"
   ]
  },
  {
   "cell_type": "code",
   "execution_count": null,
   "id": "7bcbfb74-69e2-4fd0-bb77-b74860b39e5e",
   "metadata": {},
   "outputs": [],
   "source": [
    "has_na = df.isna().any().any()\n",
    "has_na"
   ]
  },
  {
   "cell_type": "code",
   "execution_count": null,
   "id": "cacd3a00-787c-4777-b853-260e786e2568",
   "metadata": {},
   "outputs": [],
   "source": [
    "X = df.drop(columns = ['quality'])\n",
    "y = df['quality']\n",
    "X_train, X_test, y_train, y_test = train_test_split(X, y, test_size = 0.3, random_state = 522)\n"
   ]
  },
  {
   "cell_type": "code",
   "execution_count": null,
   "id": "6d01df10-91ca-4f67-840e-2fd37e133506",
   "metadata": {},
   "outputs": [],
   "source": [
    "models1 = {\n",
    "    \"dummy\": DummyClassifier(random_state=522), \n",
    "    \"KNN\": KNeighborsClassifier(),\n",
    "    \"RBF SVM\": SVC(random_state=123), \n",
    "    'Ridge model':Ridge(),\n",
    "    'linear SVC':SVC(kernel = 'linear'),\n",
    "    'decision tree': DecisionTreeClassifier(),\n",
    "}"
   ]
  },
  {
   "cell_type": "code",
   "execution_count": null,
   "id": "b872bd0a-61bb-4d32-9446-ab55697108c6",
   "metadata": {},
   "outputs": [],
   "source": [
    "from sklearn.compose import make_column_transformer\n",
    "\n",
    "\n",
    "results1 = []\n",
    "\n",
    "for name, model in models1.items():\n",
    "    pipeline =  make_pipeline(StandardScaler(), model) \n",
    "    scores = cross_validate(pipeline, X_train, y_train, return_train_score=True, n_jobs=-1)\n",
    " #   mean_std_cross_val_scores\n",
    "    results1.append({\n",
    "        'model': name,\n",
    "        'test_score': np.mean(scores['test_score']),\n",
    "        'train_score': np.mean(scores['train_score']),\n",
    "        'fit_time': np.mean(scores['fit_time']),\n",
    "        'score_time': np.mean(scores['score_time'])\n",
    "    })\n",
    "\n",
    "results_df1 = pd.DataFrame(results1)\n",
    "results_df1.set_index('model', inplace=True)\n",
    "results_df1"
   ]
  },
  {
   "cell_type": "code",
   "execution_count": null,
   "id": "e1d4ec4a-077e-4032-b408-4dbab27635a5",
   "metadata": {},
   "outputs": [],
   "source": [
    "pipe_ridge = make_pipeline(StandardScaler(), Ridge())\n",
    "pipe_ridge.fit(X_train, y_train)\n",
    "\n",
    "coeffs = pipe_ridge.named_steps[\"ridge\"].coef_\n",
    "\n",
    "# Use df.columns to get the feature names if X_train was derived from df\n",
    "coeff_df = pd.DataFrame(data=coeffs, index=X_train.columns, columns=[\"Coefficients\"])\n",
    "sorted_coeff_df = coeff_df.sort_values(by=\"Coefficients\", ascending=False)\n",
    "\n",
    "sorted_coeff_df"
   ]
  },
  {
   "cell_type": "code",
   "execution_count": null,
   "id": "5b28987d-2007-43da-bc81-a4a1b787dee4",
   "metadata": {},
   "outputs": [],
   "source": [
    "#drop variables with small coefficients(< 0.05) (free sulfur dioxide, residual sugar, density, citric acid)\n",
    "X = df.drop(columns = ['quality','free sulfur dioxide', 'residual sugar', 'density', 'citric acid'])\n",
    "y = df['quality']\n",
    "X_train, X_test, y_train, y_test = train_test_split(X, y, test_size = 0.3, random_state = 522)\n",
    "results1 = []\n",
    "\n",
    "for name, model in models1.items():\n",
    "    pipeline =  make_pipeline(StandardScaler(), model) \n",
    "    scores = cross_validate(pipeline, X_train, y_train, return_train_score=True, n_jobs=-1)\n",
    " #   mean_std_cross_val_scores\n",
    "    results1.append({\n",
    "        'model': name,\n",
    "        'test_score': np.mean(scores['test_score']),\n",
    "        'train_score': np.mean(scores['train_score']),\n",
    "        'fit_time': np.mean(scores['fit_time']),\n",
    "        'score_time': np.mean(scores['score_time'])\n",
    "    })\n",
    "\n",
    "results_df1 = pd.DataFrame(results1)\n",
    "results_df1.set_index('model', inplace=True)\n",
    "results_df1"
   ]
  },
  {
   "cell_type": "code",
   "execution_count": null,
   "id": "c5e8c30c-b2cc-4621-9664-283c92a63caf",
   "metadata": {},
   "outputs": [],
   "source": [
    "#ridge coefficient\n",
    "pipe_ridge = make_pipeline(StandardScaler(), Ridge())\n",
    "pipe_ridge.fit(X_train, y_train)\n",
    "\n",
    "coeffs = pipe_ridge.named_steps[\"ridge\"].coef_\n",
    "\n",
    "# Use df.columns to get the feature names if X_train was derived from df\n",
    "coeff_df = pd.DataFrame(data=coeffs, index=X_train.columns, columns=[\"Coefficients\"])\n",
    "sorted_coeff_df = coeff_df.sort_values(by=\"Coefficients\", ascending=False)\n",
    "\n",
    "sorted_coeff_df"
   ]
  },
  {
   "cell_type": "markdown",
   "id": "c7a2780c-9212-43d9-81f6-b8b0e6305e79",
   "metadata": {},
   "source": [
    "# ANALYSIS:\n",
    "\n",
    "In this study, we employed various machine learning models to predict the quality of wine based on its chemical properties. The models used included a Dummy model, K-Nearest Neighbors (KNN), Support Vector Machine (SVM) with Radial Basis Function (RBF) kernel, Ridge Regression, and Linear Support Vector Classification (SVC). These models were rigorously cross-validated with 5 folds to assess their performance. The Python programming language, along with essential packages such as Pandas,scikit-learn was instrumental in conducting this analysis.\r\n",
    "\r\n",
    "The initial performance of each model, as measured by test scores, was as follows:\r\n",
    "\r\n",
    "Dummy Model: 0.437059\r\n",
    "KNN: 0.562917\r\n",
    "RBF SVM: 0.615313\r\n",
    "Ridge Model: 0.340925\r\n",
    "Linear SVC: 0.566094\r\n",
    "\r\n",
    "To improve model performance and streamline the feature set, we conducted a coefficient analysis. This analysis led to the exclusion of variables with coefficients less than 0.05, including variables within 'free sulfur dioxide', 'residual sugar', 'density', and 'citric acid'. The updated model performances were:\r\n",
    "\r\n",
    "Dummy Model: 0.437059 (unchanged)\r\n",
    "KNN: 0.571541\r\n",
    "RBF SVM: 0.606740\r\n",
    "Ridge Model: 0.344543\r\n",
    "Linear SVC: 0.576244\r\n",
    "\r\n",
    "The new coefficients for the remaining variables were:\r\n",
    "\r\n",
    "Alcohol: 0.322230\r\n",
    "Sulphates: 0.145794\r\n",
    "Fixed Acidity: 0.011367\r\n",
    "pH: -0.059857\r\n",
    "Chlorides: -0.067214\r\n",
    "Total Sulfur Dioxide: -0.089573\r\n",
    "Volatile Acidity: -0.179928\r\n",
    "\r\n",
    "This refined analysis suggests a more focused model, with the reduced feature set enhancing the predictive accuracy of certain models, notably the KNN and Linear SVC. The data utilized for tdy encompass various physicochemical properties of wine, such as acidity, sulfur dioxide levels,might influence its quality.oB content, which are believ Based on above results and information, we choose to o, decision tree modelptimize RBF SVM, Ridge ed to influence its quality.\r\n"
   ]
  },
  {
   "cell_type": "markdown",
   "id": "aaf8418e-5f2d-43eb-bf19-471a5e8cb206",
   "metadata": {},
   "source": [
    "# Hyperparameter Tuning"
   ]
  },
  {
   "cell_type": "markdown",
   "id": "890ac2c7-61e3-480a-bfdf-413292b0b695",
   "metadata": {},
   "source": [
    "I'm tuning three models: decision tree, linear SVC, and RBF SVM. Make sure we add justifications for these three choices later."
   ]
  },
  {
   "cell_type": "code",
   "execution_count": null,
   "id": "64744d31-c4eb-4d32-9af0-6b144f494a5a",
   "metadata": {},
   "outputs": [],
   "source": [
    "from sklearn.model_selection import GridSearchCV\n",
    "import altair as alt\n",
    "import matplotlib.pyplot as plt"
   ]
  },
  {
   "cell_type": "code",
   "execution_count": null,
   "id": "9b691844-33f4-41d3-993e-890d39aef5fb",
   "metadata": {},
   "outputs": [],
   "source": [
    "#Decision Tree Tuning\n",
    "pipe_dt = make_pipeline(StandardScaler(), DecisionTreeClassifier())\n",
    "\n",
    "dt_param_grid = {\n",
    "    \"decisiontreeclassifier__criterion\": ['gini', 'entropy'],\n",
    "    \"decisiontreeclassifier__max_depth\": 2 ** np.arange(8)\n",
    "}\n",
    "\n",
    "dt_gs = GridSearchCV(pipe_dt, param_grid=dt_param_grid, n_jobs=-1, return_train_score=True)"
   ]
  },
  {
   "cell_type": "code",
   "execution_count": null,
   "id": "383e8f88-b88c-4ff1-a9e4-c8ba94d5542e",
   "metadata": {},
   "outputs": [],
   "source": [
    "dt_gs.fit(X_train, y_train)"
   ]
  },
  {
   "cell_type": "code",
   "execution_count": null,
   "id": "657b70ce-cca2-47e9-853f-35f84eb376e8",
   "metadata": {},
   "outputs": [],
   "source": [
    "dt_df = (pd.DataFrame(dt_gs.cv_results_)[\n",
    "    [\n",
    "        \"mean_test_score\",\n",
    "        \"mean_train_score\",\n",
    "        \"param_decisiontreeclassifier__criterion\",\n",
    "        \"param_decisiontreeclassifier__max_depth\",\n",
    "        \"mean_fit_time\",\n",
    "        \"rank_test_score\",\n",
    "    ]\n",
    "].set_index(\"rank_test_score\").sort_index())"
   ]
  },
  {
   "cell_type": "code",
   "execution_count": null,
   "id": "35f2b83a-9b15-4813-8660-700f266c0167",
   "metadata": {},
   "outputs": [],
   "source": [
    "dt_df.head(1)"
   ]
  },
  {
   "cell_type": "code",
   "execution_count": null,
   "id": "76162b77-bdbb-4904-b9da-f83cd976fbd0",
   "metadata": {},
   "outputs": [],
   "source": [
    "plot = alt.Chart(dt_df, title=\"Validation Score for Different Parameters for Decision Tree\").mark_line().encode(x=alt.X('param_decisiontreeclassifier__max_depth', title='max_depth'), \n",
    "                                    y=alt.Y('mean_test_score', title='Validation Score').scale(zero=False),\n",
    "                                    color=alt.Color('param_decisiontreeclassifier__criterion', title='criterion'))\n",
    "plot + alt.Chart(dt_df.head(1)).mark_text(dy=-5).encode(\n",
    "    x='param_decisiontreeclassifier__max_depth',\n",
    "    y=\"mean_test_score\",\n",
    "    text=alt.value('Max'))"
   ]
  },
  {
   "cell_type": "code",
   "execution_count": null,
   "id": "f321fe32-b385-46f5-b793-60f420bff629",
   "metadata": {},
   "outputs": [],
   "source": [
    "#Linear SVC Tuning\n",
    "pipe_lsvc = make_pipeline(StandardScaler(), SVC(kernel = 'linear'))\n",
    "\n",
    "lsvc_param_grid = {\n",
    "    \"svc__C\": [0.001, 0.01, 0.1, 1.0, 10, 100, 1000]\n",
    "}\n",
    "\n",
    "lsvc_gs = GridSearchCV(pipe_lsvc, param_grid=lsvc_param_grid, n_jobs=-1, return_train_score=True)"
   ]
  },
  {
   "cell_type": "code",
   "execution_count": null,
   "id": "e0d0e986-502b-4d9d-95d4-5fa594fefd0f",
   "metadata": {},
   "outputs": [],
   "source": [
    "lsvc_gs.fit(X_train, y_train)"
   ]
  },
  {
   "cell_type": "code",
   "execution_count": null,
   "id": "664e3c81-dfee-47d6-b7e2-4701b83b4621",
   "metadata": {},
   "outputs": [],
   "source": [
    "lsvc_df = (pd.DataFrame(lsvc_gs.cv_results_)[\n",
    "    [\n",
    "        \"mean_test_score\",\n",
    "        \"mean_train_score\",\n",
    "        \"param_svc__C\",\n",
    "        \"mean_fit_time\",\n",
    "        \"rank_test_score\",\n",
    "    ]\n",
    "].set_index(\"rank_test_score\").sort_index())"
   ]
  },
  {
   "cell_type": "code",
   "execution_count": null,
   "id": "9ed07fad-5fd1-4622-b860-5cb7aab8aa74",
   "metadata": {},
   "outputs": [],
   "source": [
    "lsvc_df.head(1)"
   ]
  },
  {
   "cell_type": "code",
   "execution_count": null,
   "id": "77b2104d-1872-4b68-a877-3efd6064816c",
   "metadata": {},
   "outputs": [],
   "source": [
    "plot = alt.Chart(lsvc_df, title=\"Validation Score for Different Parameters for Linear SVM\").mark_line().encode(\n",
    "    x=alt.X('param_svc__C', title='C (log scale)', scale=alt.Scale(type='log')),\n",
    "    y=alt.Y('mean_test_score', title='Validation Score').scale(zero=False))\n",
    "\n",
    "plot + alt.Chart(lsvc_df.head(1)).mark_text(dy=-5).encode(\n",
    "    x='param_svc__C',\n",
    "    y=\"mean_test_score\",\n",
    "    text=alt.value('Max'))"
   ]
  },
  {
   "cell_type": "code",
   "execution_count": null,
   "id": "84d9e007-75e7-4b13-895e-704989c1e913",
   "metadata": {},
   "outputs": [],
   "source": [
    "#RBF SVM Tuning\n",
    "pipe_rbf = make_pipeline(StandardScaler(), SVC(random_state=123))\n",
    "\n",
    "rbf_param_grid = {\n",
    "    \"svc__gamma\": [0.001, 0.01, 0.1, 1.0, 10, 100],\n",
    "    \"svc__C\": [0.001, 0.01, 0.1, 1.0, 10, 100]\n",
    "}\n",
    "\n",
    "rbf_gs = GridSearchCV(pipe_rbf, param_grid=rbf_param_grid, n_jobs=-1, return_train_score=True)"
   ]
  },
  {
   "cell_type": "code",
   "execution_count": null,
   "id": "0ba9d48d-dd46-4fd7-86c2-7fb26bf90041",
   "metadata": {},
   "outputs": [],
   "source": [
    "rbf_gs.fit(X_train, y_train)"
   ]
  },
  {
   "cell_type": "code",
   "execution_count": null,
   "id": "4be12887-908f-4d9e-bb46-8e9ef1b68f10",
   "metadata": {},
   "outputs": [],
   "source": [
    "rbf_df = (pd.DataFrame(rbf_gs.cv_results_)[\n",
    "    [\n",
    "        \"mean_test_score\",\n",
    "        \"mean_train_score\",\n",
    "        \"param_svc__gamma\",\n",
    "        \"param_svc__C\",\n",
    "        \"mean_fit_time\",\n",
    "        \"rank_test_score\",\n",
    "    ]\n",
    "].set_index(\"rank_test_score\").sort_index())"
   ]
  },
  {
   "cell_type": "code",
   "execution_count": null,
   "id": "420c1c24-b446-4404-9eec-d7e0c1958140",
   "metadata": {},
   "outputs": [],
   "source": [
    "rbf_df.head(1)"
   ]
  },
  {
   "cell_type": "code",
   "execution_count": null,
   "id": "5103218d-b26d-4ed1-a4fa-cf11d45e6263",
   "metadata": {},
   "outputs": [],
   "source": [
    "plot = alt.Chart(rbf_df, title=\"Validation Score for Different Parameters for RBF SVM\").mark_line().encode(\n",
    "    x=alt.X('param_svc__C', title='C (log scale)', scale=alt.Scale(type='log')),\n",
    "    y=alt.Y('mean_test_score', title='Validation Score').scale(zero=False),\n",
    "    color=alt.Color('param_svc__gamma:O', title='gamma').scale(scheme='tableau20')\n",
    ")\n",
    "\n",
    "plot + alt.Chart(rbf_df.head(1)).mark_text(dy=-5).encode(\n",
    "    x='param_svc__C',\n",
    "    y=\"mean_test_score\",\n",
    "    text=alt.value('Max'))"
   ]
  },
  {
   "cell_type": "markdown",
   "id": "a5e3d855-41ee-4616-8929-c2ad56ad9b91",
   "metadata": {},
   "source": [
    "Based on the above findings, we have found that in terms of validation score, the best parameters for decision tree is to use gini as the criterion and a `max_depth` of 128, that for linear SVM is to set `C` as 0.1, and that for RBF SVM is to set both `gamma` and `C` as 1.0. We now use these three best models on the test set to assess their performances."
   ]
  },
  {
   "cell_type": "code",
   "execution_count": null,
   "id": "dc02718b-0a25-479e-b1c7-1b94e3448a99",
   "metadata": {},
   "outputs": [],
   "source": [
    "best_dt_pipe = make_pipeline(StandardScaler(), DecisionTreeClassifier(criterion='gini', max_depth=128))\n",
    "best_lsvm_pipe = make_pipeline(StandardScaler(), SVC(kernel='linear', C=0.1))\n",
    "best_rbf_pipe = make_pipeline(StandardScaler(), SVC(gamma=1.0, C=1.0))\n",
    "\n",
    "best_dt_pipe.fit(X_train, y_train)\n",
    "best_lsvm_pipe.fit(X_train, y_train)\n",
    "best_rbf_pipe.fit(X_train, y_train)"
   ]
  },
  {
   "cell_type": "code",
   "execution_count": null,
   "id": "ca6d202e-e427-4a83-8fb9-9ecfa1cb8769",
   "metadata": {},
   "outputs": [],
   "source": [
    "best_dt_pipe.score(X_test, y_test)"
   ]
  },
  {
   "cell_type": "code",
   "execution_count": null,
   "id": "4e9c7a25-8f36-4cf8-bdb8-13a482d5f06b",
   "metadata": {},
   "outputs": [],
   "source": [
    "best_lsvm_pipe.score(X_test, y_test)"
   ]
  },
  {
   "cell_type": "code",
   "execution_count": null,
   "id": "01b78402-de0c-4aed-8b62-f721cd3b322f",
   "metadata": {},
   "outputs": [],
   "source": [
    "best_rbf_pipe.score(X_test, y_test)"
   ]
  },
  {
   "cell_type": "markdown",
   "id": "22fb18b6-6051-46b9-a211-6eafa30fc475",
   "metadata": {},
   "source": [
    "Among all three models, RBF SVM is the best in terms of test set performance."
   ]
  }
 ],
 "metadata": {
  "kernelspec": {
   "display_name": "Python [conda env:dsci522_group20_env]",
   "language": "python",
   "name": "conda-env-dsci522_group20_env-py"
  },
  "language_info": {
   "codemirror_mode": {
    "name": "ipython",
    "version": 3
   },
   "file_extension": ".py",
   "mimetype": "text/x-python",
   "name": "python",
   "nbconvert_exporter": "python",
   "pygments_lexer": "ipython3",
   "version": "3.10.0"
  }
 },
 "nbformat": 4,
 "nbformat_minor": 5
}
